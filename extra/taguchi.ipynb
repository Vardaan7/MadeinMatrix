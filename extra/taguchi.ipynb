{
 "cells": [
  {
   "cell_type": "code",
   "execution_count": 6,
   "metadata": {},
   "outputs": [],
   "source": [
    "import pandas as pd"
   ]
  },
  {
   "cell_type": "code",
   "execution_count": 9,
   "metadata": {},
   "outputs": [],
   "source": [
    "data = pd.read_csv(\"tdata.csv\")"
   ]
  },
  {
   "cell_type": "code",
   "execution_count": 10,
   "metadata": {},
   "outputs": [
    {
     "name": "stdout",
     "output_type": "stream",
     "text": [
      "   34.27   7.10  20.08  24.30  9.48  1.17  3.60  49.77\n",
      "0  26.78  21.71  15.23  23.84  7.00  1.74  3.70  53.73\n",
      "1  17.01  26.04  19.65  23.16  9.41  1.12  3.60  54.10\n",
      "2  23.77  22.25  15.40  25.67  7.00  2.21  3.70  54.29\n",
      "3  22.11  21.71  19.91  23.84  7.00  1.74  3.70  56.27\n",
      "4  22.14  30.49  11.15  23.88  7.00  1.74  3.60  56.45\n",
      "5  22.11  21.71  19.91  23.84  7.00  1.74  3.70  59.14\n",
      "6  20.81  21.05  19.25  26.56  7.00  1.63  3.69  59.89\n",
      "7  12.18  31.64  19.91  23.84  7.00  1.74  3.70  60.59\n",
      "8  19.66  23.15  21.35  22.75  7.00  2.37  3.71  61.51\n"
     ]
    }
   ],
   "source": [
    "print(data)"
   ]
  },
  {
   "cell_type": "code",
   "execution_count": null,
   "metadata": {},
   "outputs": [],
   "source": []
  }
 ],
 "metadata": {
  "kernelspec": {
   "display_name": "Python 3",
   "language": "python",
   "name": "python3"
  },
  "language_info": {
   "codemirror_mode": {
    "name": "ipython",
    "version": 3
   },
   "file_extension": ".py",
   "mimetype": "text/x-python",
   "name": "python",
   "nbconvert_exporter": "python",
   "pygments_lexer": "ipython3",
   "version": "3.8.3"
  }
 },
 "nbformat": 4,
 "nbformat_minor": 4
}
